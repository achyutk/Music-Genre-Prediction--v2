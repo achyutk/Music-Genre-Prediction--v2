{
  "cells": [
    {
      "cell_type": "markdown",
      "metadata": {
        "id": "ZlM2H9GommGp"
      },
      "source": [
        "The following code was taken by the repository of Harry Stuart. https://github.com/harrystuart/tfworldhackathon.\n",
        "\n",
        "This is an implementation of WaveGAN architecture to generate audio files of 4 seconds. In order to  generate audio for 10 genres, this scrit is supposed to be run 10 times, replacing the value of variable \"INSTRUMENT\" for respective  genre."
      ]
    },
    {
      "cell_type": "code",
      "execution_count": null,
      "metadata": {
        "id": "uHVgu2NxZ6Nn"
      },
      "outputs": [],
      "source": [
        "# Import modules\n",
        "import tensorflow as tf\n",
        "import numpy as np\n",
        "import librosa\n",
        "import random\n",
        "import os\n",
        "import soundfile as sf\n",
        "import model"
      ]
    },
    {
      "cell_type": "code",
      "execution_count": null,
      "metadata": {
        "colab": {
          "base_uri": "https://localhost:8080/"
        },
        "id": "pELKACyFpMrP",
        "outputId": "59655f19-d39d-497a-b55d-d4b6d99659e0"
      },
      "outputs": [
        {
          "name": "stdout",
          "output_type": "stream",
          "text": [
            "Drive already mounted at /content/drive; to attempt to forcibly remount, call drive.mount(\"/content/drive\", force_remount=True).\n"
          ]
        }
      ],
      "source": [
        "#Code to load google drive\n",
        "# from google.colab import drive\n",
        "# drive.mount('/content/drive')"
      ]
    },
    {
      "cell_type": "code",
      "execution_count": null,
      "metadata": {
        "colab": {
          "base_uri": "https://localhost:8080/"
        },
        "id": "YsPUaRGPibcX",
        "outputId": "794659cd-cfcb-478e-f806-2339f0c50c5e"
      },
      "outputs": [
        {
          "name": "stdout",
          "output_type": "stream",
          "text": [
            "Model: \"model\"\n",
            "_________________________________________________________________\n",
            " Layer (type)                Output Shape              Param #   \n",
            "=================================================================\n",
            " input_1 (InputLayer)        [(None, 100)]             0         \n",
            "                                                                 \n",
            " dense (Dense)               (None, 16384)             1654784   \n",
            "                                                                 \n",
            " reshape (Reshape)           (None, 16, 1024)          0         \n",
            "                                                                 \n",
            " re_lu (ReLU)                (None, 16, 1024)          0         \n",
            "                                                                 \n",
            " lambda (Lambda)             (None, 1, 16, 1024)       0         \n",
            "                                                                 \n",
            " conv2d_transpose (Conv2DTra  (None, 1, 64, 512)       13107712  \n",
            " nspose)                                                         \n",
            "                                                                 \n",
            " lambda_1 (Lambda)           (None, 64, 512)           0         \n",
            "                                                                 \n",
            " re_lu_1 (ReLU)              (None, 64, 512)           0         \n",
            "                                                                 \n",
            " lambda_2 (Lambda)           (None, 1, 64, 512)        0         \n",
            "                                                                 \n",
            " conv2d_transpose_1 (Conv2DT  (None, 1, 256, 256)      3277056   \n",
            " ranspose)                                                       \n",
            "                                                                 \n",
            " lambda_3 (Lambda)           (None, 256, 256)          0         \n",
            "                                                                 \n",
            " re_lu_2 (ReLU)              (None, 256, 256)          0         \n",
            "                                                                 \n",
            " lambda_4 (Lambda)           (None, 1, 256, 256)       0         \n",
            "                                                                 \n",
            " conv2d_transpose_2 (Conv2DT  (None, 1, 1024, 128)     819328    \n",
            " ranspose)                                                       \n",
            "                                                                 \n",
            " lambda_5 (Lambda)           (None, 1024, 128)         0         \n",
            "                                                                 \n",
            " re_lu_3 (ReLU)              (None, 1024, 128)         0         \n",
            "                                                                 \n",
            " lambda_6 (Lambda)           (None, 1, 1024, 128)      0         \n",
            "                                                                 \n",
            " conv2d_transpose_3 (Conv2DT  (None, 1, 4096, 64)      204864    \n",
            " ranspose)                                                       \n",
            "                                                                 \n",
            " lambda_7 (Lambda)           (None, 4096, 64)          0         \n",
            "                                                                 \n",
            " re_lu_4 (ReLU)              (None, 4096, 64)          0         \n",
            "                                                                 \n",
            " lambda_8 (Lambda)           (None, 1, 4096, 64)       0         \n",
            "                                                                 \n",
            " conv2d_transpose_4 (Conv2DT  (None, 1, 16384, 64)     102464    \n",
            " ranspose)                                                       \n",
            "                                                                 \n",
            " lambda_9 (Lambda)           (None, 16384, 64)         0         \n",
            "                                                                 \n",
            " re_lu_5 (ReLU)              (None, 16384, 64)         0         \n",
            "                                                                 \n",
            " lambda_10 (Lambda)          (None, 1, 16384, 64)      0         \n",
            "                                                                 \n",
            " conv2d_transpose_5 (Conv2DT  (None, 1, 65536, 1)      1601      \n",
            " ranspose)                                                       \n",
            "                                                                 \n",
            " lambda_11 (Lambda)          (None, 65536, 1)          0         \n",
            "                                                                 \n",
            " activation (Activation)     (None, 65536, 1)          0         \n",
            "                                                                 \n",
            "=================================================================\n",
            "Total params: 19,167,809\n",
            "Trainable params: 19,167,809\n",
            "Non-trainable params: 0\n",
            "_________________________________________________________________\n",
            "None\n",
            "Model: \"model_1\"\n",
            "_________________________________________________________________\n",
            " Layer (type)                Output Shape              Param #   \n",
            "=================================================================\n",
            " input_2 (InputLayer)        [(None, 65536, 1)]        0         \n",
            "                                                                 \n",
            " conv1d (Conv1D)             (None, 16384, 64)         1664      \n",
            "                                                                 \n",
            " leaky_re_lu (LeakyReLU)     (None, 16384, 64)         0         \n",
            "                                                                 \n",
            " lambda_12 (Lambda)          (None, 16384, 64)         0         \n",
            "                                                                 \n",
            " conv1d_1 (Conv1D)           (None, 4096, 128)         204928    \n",
            "                                                                 \n",
            " leaky_re_lu_1 (LeakyReLU)   (None, 4096, 128)         0         \n",
            "                                                                 \n",
            " lambda_13 (Lambda)          (None, 4096, 128)         0         \n",
            "                                                                 \n",
            " conv1d_2 (Conv1D)           (None, 1024, 256)         819456    \n",
            "                                                                 \n",
            " leaky_re_lu_2 (LeakyReLU)   (None, 1024, 256)         0         \n",
            "                                                                 \n",
            " lambda_14 (Lambda)          (None, 1024, 256)         0         \n",
            "                                                                 \n",
            " conv1d_3 (Conv1D)           (None, 256, 512)          3277312   \n",
            "                                                                 \n",
            " leaky_re_lu_3 (LeakyReLU)   (None, 256, 512)          0         \n",
            "                                                                 \n",
            " lambda_15 (Lambda)          (None, 256, 512)          0         \n",
            "                                                                 \n",
            " conv1d_4 (Conv1D)           (None, 64, 1024)          13108224  \n",
            "                                                                 \n",
            " leaky_re_lu_4 (LeakyReLU)   (None, 64, 1024)          0         \n",
            "                                                                 \n",
            " reshape_1 (Reshape)         (None, 65536)             0         \n",
            "                                                                 \n",
            " dense_1 (Dense)             (None, 1)                 65537     \n",
            "                                                                 \n",
            "=================================================================\n",
            "Total params: 17,477,121\n",
            "Trainable params: 17,477,121\n",
            "Non-trainable params: 0\n",
            "_________________________________________________________________\n",
            "None\n"
          ]
        }
      ],
      "source": [
        "# Instantiate model\n",
        "gan = model.GAN(model_dims=MODEL_DIMS, num_samples=NUM_SAMPLES, \n",
        "              gradient_penalty_weight=GRADIENT_PENALTY_WEIGHT, instrument=INSTRUMENT,\n",
        "              noise_len=NOISE_LEN, batch_size=BATCH_SIZE, sr=Fs)"
      ]
    },
    {
      "cell_type": "code",
      "execution_count": null,
      "metadata": {
        "colab": {
          "base_uri": "https://localhost:8080/"
        },
        "id": "N6wqZr3fbHJX",
        "outputId": "d5835b23-c1b3-416b-cfc2-bf1cd706a996"
      },
      "outputs": [
        {
          "name": "stdout",
          "output_type": "stream",
          "text": [
            "X_train shape = (600, 65536, 1)\n"
          ]
        }
      ],
      "source": [
        "# Create training data\n",
        "\n",
        "X_train = []\n",
        "for file in os.listdir(DATA_DIR): ### Modify for your data directory\n",
        "    with open(DATA_DIR + fr\"/{file}\", \"rb\") as f:\n",
        "        samples, _ = librosa.load(f, sr = Fs)\n",
        "        # Pad short audio files to NUM_SAMPLES duration\n",
        "        if len(samples) < NUM_SAMPLES:\n",
        "            audio = np.array([np.array([sample]) for sample in samples])\n",
        "            padding = np.zeros(shape=(NUM_SAMPLES - len(samples), 1), dtype='float32')\n",
        "            X_train.append(np.append(audio, padding, axis=0))\n",
        "        # Create slices of length NUM_SAMPLES from long audio\n",
        "        else:\n",
        "            p = len(samples) // (NUM_SAMPLES)\n",
        "            for i in range(p - 1):\n",
        "                sample = np.expand_dims(samples[i*NUM_SAMPLES:(i+1)*NUM_SAMPLES], axis=1)\n",
        "                X_train.append(sample)\n",
        "\n",
        "print(f\"X_train shape = {(len(X_train),) + X_train[0].shape}\")"
      ]
    },
    {
      "cell_type": "code",
      "execution_count": null,
      "metadata": {
        "id": "TBIvy5vFbtf5"
      },
      "outputs": [],
      "source": [
        "# Save some random training data slices and create baseline generated data for comparison\n",
        "for i in range(50):  \n",
        "    sf.write(f\"/content/drive/MyDrive/Outputs/{INSTRUMENT}/real-{i}.wav\", X_train[random.randint(0, len(X_train) - 1)],samplerate=Fs)\n"
      ]
    },
    {
      "cell_type": "code",
      "execution_count": null,
      "metadata": {
        "colab": {
          "base_uri": "https://localhost:8080/"
        },
        "id": "lhbY90nscVIp",
        "outputId": "877cb734-5b05-4deb-d98d-def6d8994078"
      },
      "outputs": [
        {
          "name": "stderr",
          "output_type": "stream",
          "text": [
            "WARNING:tensorflow:Compiled the loaded model, but the compiled metrics have yet to be built. `model.compile_metrics` will be empty until you train or evaluate the model.\n"
          ]
        }
      ],
      "source": [
        "# Save some random data slices as fake for comparison\n",
        "gan.sample(\"fake\")\n",
        "train_summary_writer = tf.summary.create_file_writer(\"logs/train\")"
      ]
    },
    {
      "cell_type": "code",
      "execution_count": null,
      "metadata": {
        "id": "FFJdxvOUSEQd"
      },
      "outputs": [],
      "source": [
        "# Train GAN\n",
        "with train_summary_writer.as_default():\n",
        "    steps_per_epoch = len(X_train) // BATCH_SIZE \n",
        "\n",
        "    for e in range(EPOCHS):\n",
        "        for i in range(steps_per_epoch):\n",
        "            D_loss_sum = 0\n",
        "        \n",
        "            # Update dcritic a set number of times for each update of the generator\n",
        "            for n in range(D_UPDATES_PER_G_UPDATE):\n",
        "                gan.D.reset_states()\n",
        "                D_loss_dict = gan.train_D(np.array(random.sample(X_train, BATCH_SIZE)))\n",
        "                D_loss_sum += D_loss_dict['d_loss']\n",
        "            \n",
        "            # Calculate average loss of critic for current step\n",
        "            D_loss = D_loss_sum / D_UPDATES_PER_G_UPDATE\n",
        "            \n",
        "            G_loss_dict = gan.train_G()\n",
        "            G_loss = G_loss_dict['g_loss']\n",
        "        \n",
        "            # Write logs\n",
        "            tf.summary.scalar('d_loss', D_loss, step=(e*steps_per_epoch)+i)\n",
        "            tf.summary.scalar('g_loss', G_loss, step=(e*steps_per_epoch)+i)\n",
        "        \n",
        "            print(f\"step {(e*steps_per_epoch)+i}: d_loss = {D_loss} g_loss = {G_loss}\")\n",
        "        \n",
        "        # Periodically sample generator\n",
        "        if e % EPOCHS_PER_SAMPLE == 0:\n",
        "            gan.sample(e)"
      ]
    }
  ],
  "metadata": {
    "accelerator": "GPU",
    "colab": {
      "provenance": []
    },
    "gpuClass": "standard",
    "kernelspec": {
      "display_name": "Python 3",
      "name": "python3"
    },
    "language_info": {
      "name": "python"
    }
  },
  "nbformat": 4,
  "nbformat_minor": 0
}
